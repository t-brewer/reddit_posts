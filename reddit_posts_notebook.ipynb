{
 "cells": [
  {
   "cell_type": "markdown",
   "metadata": {},
   "source": [
    "# NLP - Bot Detection in Reddit Posts \n",
    "## Thomas Brewer - Boston"
   ]
  },
  {
   "cell_type": "markdown",
   "metadata": {},
   "source": [
    "## Overview\n",
    "\n",
    "In this project we are provided with a list of Reddit posts, with an open ended analysis.  I have chosen to use \n",
    "*Natural Language Processing* (NLP) to build a model that predicts whether or not a post was written by a Reddit bot : the `AutoModerator`.  For this I use only the actual text in the Reddit posts.  To preprocess the data I use standard NLP techniques such as removing *stopwords* and *stemming* to eventually create data frame of predictive features.  Once the preprocessing is done, I use a *RandomForestClassifier* to predict which category a post falls into (`AutoModerator` or not)."
   ]
  },
  {
   "cell_type": "markdown",
   "metadata": {},
   "source": [
    "## Importing Necessary Libraries"
   ]
  },
  {
   "cell_type": "code",
   "execution_count": 111,
   "metadata": {
    "collapsed": true
   },
   "outputs": [],
   "source": [
    "# Import Libraries\n",
    "\n",
    "# Standard / Basic Libraries\n",
    "import pandas as pd\n",
    "import numpy as np\n",
    "import string\n",
    "import seaborn as sns\n",
    "import matplotlib.pyplot as plt\n",
    "%matplotlib inline\n",
    "\n",
    "# SciKit Learn Libraries\n",
    "from sklearn.model_selection import StratifiedShuffleSplit\n",
    "from sklearn.feature_extraction.text import CountVectorizer, HashingVectorizer, TfidfVectorizer, TfidfTransformer\n",
    "from nltk.corpus import stopwords\n",
    "from nltk.stem import PorterStemmer\n",
    "from sklearn.decomposition import TruncatedSVD\n",
    "from sklearn.ensemble import RandomForestClassifier\n",
    "from sklearn.model_selection import GridSearchCV\n",
    "from sklearn.metrics import confusion_matrix\n",
    "\n",
    "# Other\n",
    "from importlib import reload # to reload libraries as I change them.\n",
    "from wordcloud import WordCloud # to make a word cloud later\n",
    "import re # Regular expressions\n",
    "import warnings # To ignore warnings =p\n",
    "import tools # My own library\n",
    "reload(tools);\n",
    "warnings.filterwarnings('ignore')\n",
    "\n"
   ]
  },
  {
   "cell_type": "markdown",
   "metadata": {},
   "source": [
    "## Loading the Data"
   ]
  },
  {
   "cell_type": "code",
   "execution_count": 2,
   "metadata": {
    "collapsed": true
   },
   "outputs": [],
   "source": [
    "data = pd.read_csv('reddit_posts.csv')"
   ]
  },
  {
   "cell_type": "code",
   "execution_count": 4,
   "metadata": {},
   "outputs": [
    {
     "data": {
      "text/html": [
       "<div>\n",
       "<style>\n",
       "    .dataframe thead tr:only-child th {\n",
       "        text-align: right;\n",
       "    }\n",
       "\n",
       "    .dataframe thead th {\n",
       "        text-align: left;\n",
       "    }\n",
       "\n",
       "    .dataframe tbody tr th {\n",
       "        vertical-align: top;\n",
       "    }\n",
       "</style>\n",
       "<table border=\"1\" class=\"dataframe\">\n",
       "  <thead>\n",
       "    <tr style=\"text-align: right;\">\n",
       "      <th></th>\n",
       "      <th>adserver_click_url</th>\n",
       "      <th>adserver_imp_pixel</th>\n",
       "      <th>archived</th>\n",
       "      <th>author</th>\n",
       "      <th>author_flair_css_class</th>\n",
       "      <th>author_flair_text</th>\n",
       "      <th>contest_mode</th>\n",
       "      <th>created_utc</th>\n",
       "      <th>disable_comments</th>\n",
       "      <th>distinguished</th>\n",
       "      <th>...</th>\n",
       "      <th>spoiler</th>\n",
       "      <th>stickied</th>\n",
       "      <th>subreddit</th>\n",
       "      <th>subreddit_id</th>\n",
       "      <th>third_party_tracking</th>\n",
       "      <th>third_party_tracking_2</th>\n",
       "      <th>thumbnail</th>\n",
       "      <th>title</th>\n",
       "      <th>ups</th>\n",
       "      <th>url</th>\n",
       "    </tr>\n",
       "  </thead>\n",
       "  <tbody>\n",
       "    <tr>\n",
       "      <th>0</th>\n",
       "      <td>NaN</td>\n",
       "      <td>NaN</td>\n",
       "      <td>False</td>\n",
       "      <td>johnnyawesome0</td>\n",
       "      <td>NaN</td>\n",
       "      <td>NaN</td>\n",
       "      <td>False</td>\n",
       "      <td>1480697304</td>\n",
       "      <td>NaN</td>\n",
       "      <td>NaN</td>\n",
       "      <td>...</td>\n",
       "      <td>False</td>\n",
       "      <td>False</td>\n",
       "      <td>techsupport</td>\n",
       "      <td>t5_2qioo</td>\n",
       "      <td>NaN</td>\n",
       "      <td>NaN</td>\n",
       "      <td>self</td>\n",
       "      <td>Help with audio set-up</td>\n",
       "      <td>1.0</td>\n",
       "      <td>https://www.reddit.com/r/techsupport/comments/...</td>\n",
       "    </tr>\n",
       "    <tr>\n",
       "      <th>1</th>\n",
       "      <td>NaN</td>\n",
       "      <td>NaN</td>\n",
       "      <td>False</td>\n",
       "      <td>Silverfin113</td>\n",
       "      <td>NaN</td>\n",
       "      <td>NaN</td>\n",
       "      <td>False</td>\n",
       "      <td>1480697424</td>\n",
       "      <td>NaN</td>\n",
       "      <td>NaN</td>\n",
       "      <td>...</td>\n",
       "      <td>False</td>\n",
       "      <td>False</td>\n",
       "      <td>learnprogramming</td>\n",
       "      <td>t5_2r7yd</td>\n",
       "      <td>NaN</td>\n",
       "      <td>NaN</td>\n",
       "      <td>self</td>\n",
       "      <td>Optimizing code for speed</td>\n",
       "      <td>23.0</td>\n",
       "      <td>https://www.reddit.com/r/learnprogramming/comm...</td>\n",
       "    </tr>\n",
       "    <tr>\n",
       "      <th>2</th>\n",
       "      <td>NaN</td>\n",
       "      <td>NaN</td>\n",
       "      <td>False</td>\n",
       "      <td>bookbooksbooks</td>\n",
       "      <td>NaN</td>\n",
       "      <td>NaN</td>\n",
       "      <td>False</td>\n",
       "      <td>1480697613</td>\n",
       "      <td>NaN</td>\n",
       "      <td>NaN</td>\n",
       "      <td>...</td>\n",
       "      <td>False</td>\n",
       "      <td>False</td>\n",
       "      <td>gamedev</td>\n",
       "      <td>t5_2qi0a</td>\n",
       "      <td>NaN</td>\n",
       "      <td>NaN</td>\n",
       "      <td>self</td>\n",
       "      <td>Seeking Tales of Development Woe (and Triumph)...</td>\n",
       "      <td>12.0</td>\n",
       "      <td>https://www.reddit.com/r/gamedev/comments/5g4a...</td>\n",
       "    </tr>\n",
       "    <tr>\n",
       "      <th>3</th>\n",
       "      <td>NaN</td>\n",
       "      <td>NaN</td>\n",
       "      <td>False</td>\n",
       "      <td>[deleted]</td>\n",
       "      <td>NaN</td>\n",
       "      <td>NaN</td>\n",
       "      <td>False</td>\n",
       "      <td>1480697634</td>\n",
       "      <td>NaN</td>\n",
       "      <td>NaN</td>\n",
       "      <td>...</td>\n",
       "      <td>False</td>\n",
       "      <td>False</td>\n",
       "      <td>learnprogramming</td>\n",
       "      <td>t5_2r7yd</td>\n",
       "      <td>NaN</td>\n",
       "      <td>NaN</td>\n",
       "      <td>default</td>\n",
       "      <td>[Java] Finding smallest value in an array</td>\n",
       "      <td>0.0</td>\n",
       "      <td>https://www.reddit.com/r/learnprogramming/comm...</td>\n",
       "    </tr>\n",
       "    <tr>\n",
       "      <th>4</th>\n",
       "      <td>NaN</td>\n",
       "      <td>NaN</td>\n",
       "      <td>False</td>\n",
       "      <td>caffeine_potent</td>\n",
       "      <td>NaN</td>\n",
       "      <td>NaN</td>\n",
       "      <td>False</td>\n",
       "      <td>1480697748</td>\n",
       "      <td>NaN</td>\n",
       "      <td>NaN</td>\n",
       "      <td>...</td>\n",
       "      <td>False</td>\n",
       "      <td>False</td>\n",
       "      <td>learnpython</td>\n",
       "      <td>t5_2r8ot</td>\n",
       "      <td>NaN</td>\n",
       "      <td>NaN</td>\n",
       "      <td>self</td>\n",
       "      <td>currying functions using functools</td>\n",
       "      <td>6.0</td>\n",
       "      <td>https://www.reddit.com/r/learnpython/comments/...</td>\n",
       "    </tr>\n",
       "  </tbody>\n",
       "</table>\n",
       "<p>5 rows × 53 columns</p>\n",
       "</div>"
      ],
      "text/plain": [
       "   adserver_click_url  adserver_imp_pixel  archived           author  \\\n",
       "0                 NaN                 NaN     False   johnnyawesome0   \n",
       "1                 NaN                 NaN     False     Silverfin113   \n",
       "2                 NaN                 NaN     False   bookbooksbooks   \n",
       "3                 NaN                 NaN     False        [deleted]   \n",
       "4                 NaN                 NaN     False  caffeine_potent   \n",
       "\n",
       "  author_flair_css_class author_flair_text  contest_mode  created_utc  \\\n",
       "0                    NaN               NaN         False   1480697304   \n",
       "1                    NaN               NaN         False   1480697424   \n",
       "2                    NaN               NaN         False   1480697613   \n",
       "3                    NaN               NaN         False   1480697634   \n",
       "4                    NaN               NaN         False   1480697748   \n",
       "\n",
       "   disable_comments distinguished  \\\n",
       "0               NaN           NaN   \n",
       "1               NaN           NaN   \n",
       "2               NaN           NaN   \n",
       "3               NaN           NaN   \n",
       "4               NaN           NaN   \n",
       "\n",
       "                         ...                         spoiler  stickied  \\\n",
       "0                        ...                           False     False   \n",
       "1                        ...                           False     False   \n",
       "2                        ...                           False     False   \n",
       "3                        ...                           False     False   \n",
       "4                        ...                           False     False   \n",
       "\n",
       "          subreddit  subreddit_id  third_party_tracking  \\\n",
       "0       techsupport      t5_2qioo                   NaN   \n",
       "1  learnprogramming      t5_2r7yd                   NaN   \n",
       "2           gamedev      t5_2qi0a                   NaN   \n",
       "3  learnprogramming      t5_2r7yd                   NaN   \n",
       "4       learnpython      t5_2r8ot                   NaN   \n",
       "\n",
       "   third_party_tracking_2 thumbnail  \\\n",
       "0                     NaN      self   \n",
       "1                     NaN      self   \n",
       "2                     NaN      self   \n",
       "3                     NaN   default   \n",
       "4                     NaN      self   \n",
       "\n",
       "                                               title   ups  \\\n",
       "0                             Help with audio set-up   1.0   \n",
       "1                          Optimizing code for speed  23.0   \n",
       "2  Seeking Tales of Development Woe (and Triumph)...  12.0   \n",
       "3          [Java] Finding smallest value in an array   0.0   \n",
       "4                 currying functions using functools   6.0   \n",
       "\n",
       "                                                 url  \n",
       "0  https://www.reddit.com/r/techsupport/comments/...  \n",
       "1  https://www.reddit.com/r/learnprogramming/comm...  \n",
       "2  https://www.reddit.com/r/gamedev/comments/5g4a...  \n",
       "3  https://www.reddit.com/r/learnprogramming/comm...  \n",
       "4  https://www.reddit.com/r/learnpython/comments/...  \n",
       "\n",
       "[5 rows x 53 columns]"
      ]
     },
     "execution_count": 4,
     "metadata": {},
     "output_type": "execute_result"
    }
   ],
   "source": [
    "# Load data and see the head to get a basic idea of what we're looking at\n",
    "data = pd.read_csv('reddit_posts.csv')\n",
    "data.head()"
   ]
  },
  {
   "cell_type": "markdown",
   "metadata": {},
   "source": [
    "## Cleaning / Preprocessing the Data\n",
    "### Removing Null Values\n",
    "First thing we notice about the data is that there are A LOT of null values.  To get an idea, we use the function in `tools.py` file, that shows any column with null values, and gives the percentage of nulls for that column."
   ]
  },
  {
   "cell_type": "code",
   "execution_count": 5,
   "metadata": {},
   "outputs": [
    {
     "name": "stdout",
     "output_type": "stream",
     "text": [
      "Column                \tN_null\t% null\n",
      "adserver_click_url    \t26688 \t100.0\n",
      "adserver_imp_pixel    \t26688 \t100.0\n",
      "author_flair_css_class\t26253 \t98.37005395683454\n",
      "author_flair_text     \t26337 \t98.68480215827338\n",
      "disable_comments      \t26688 \t100.0\n",
      "distinguished         \t26603 \t99.68150479616307\n",
      "href_url              \t26688 \t100.0\n",
      "imp_pixel             \t26688 \t100.0\n",
      "link_flair_css_class  \t22396 \t83.91786570743405\n",
      "link_flair_text       \t22078 \t82.72631894484412\n",
      "media                 \t26420 \t98.99580335731414\n",
      "mobile_ad_url         \t26688 \t100.0\n",
      "original_link         \t26688 \t100.0\n",
      "post_hint             \t23175 \t86.83678057553956\n",
      "preview               \t23175 \t86.83678057553956\n",
      "promoted              \t26688 \t100.0\n",
      "promoted_by           \t26688 \t100.0\n",
      "promoted_display_name \t26688 \t100.0\n",
      "promoted_url          \t26688 \t100.0\n",
      "secure_media          \t26420 \t98.99580335731414\n",
      "third_party_tracking  \t26688 \t100.0\n",
      "third_party_tracking_2\t26688 \t100.0\n"
     ]
    }
   ],
   "source": [
    "# Check percentage of null values in dataset\n",
    "tools.percent_null(data)"
   ]
  },
  {
   "cell_type": "markdown",
   "metadata": {},
   "source": [
    "Some columns are actually completely null, and a good amount of them have over 20,000 null values (which is a lot for only 26688 rows).  So we're going to drop any column with more than 20,000 null values.  We also drop the `url` column since it is mostly a repeat of the `subreddit` column."
   ]
  },
  {
   "cell_type": "code",
   "execution_count": 6,
   "metadata": {
    "collapsed": true
   },
   "outputs": [],
   "source": [
    "# Drop columns with more than 20000 null values.\n",
    "data.dropna(thresh=20000,axis=1, inplace=True)\n",
    "data.drop('url', axis=1, inplace=True)"
   ]
  },
  {
   "cell_type": "markdown",
   "metadata": {},
   "source": [
    "### `[deleted]` and `[removed]` Posts\n",
    "Some posts are not Null values, but they have been removed or deleted.  These show up as strings `[deleted]` and `[removed]`.  Here are some examples:"
   ]
  },
  {
   "cell_type": "code",
   "execution_count": 19,
   "metadata": {},
   "outputs": [
    {
     "data": {
      "text/html": [
       "<div>\n",
       "<style>\n",
       "    .dataframe thead tr:only-child th {\n",
       "        text-align: right;\n",
       "    }\n",
       "\n",
       "    .dataframe thead th {\n",
       "        text-align: left;\n",
       "    }\n",
       "\n",
       "    .dataframe tbody tr th {\n",
       "        vertical-align: top;\n",
       "    }\n",
       "</style>\n",
       "<table border=\"1\" class=\"dataframe\">\n",
       "  <thead>\n",
       "    <tr style=\"text-align: right;\">\n",
       "      <th></th>\n",
       "      <th>archived</th>\n",
       "      <th>author</th>\n",
       "      <th>contest_mode</th>\n",
       "      <th>created_utc</th>\n",
       "      <th>domain</th>\n",
       "      <th>downs</th>\n",
       "      <th>edited</th>\n",
       "      <th>gilded</th>\n",
       "      <th>hide_score</th>\n",
       "      <th>id</th>\n",
       "      <th>...</th>\n",
       "      <th>score</th>\n",
       "      <th>secure_media_embed</th>\n",
       "      <th>selftext</th>\n",
       "      <th>spoiler</th>\n",
       "      <th>stickied</th>\n",
       "      <th>subreddit</th>\n",
       "      <th>subreddit_id</th>\n",
       "      <th>thumbnail</th>\n",
       "      <th>title</th>\n",
       "      <th>ups</th>\n",
       "    </tr>\n",
       "  </thead>\n",
       "  <tbody>\n",
       "    <tr>\n",
       "      <th>3</th>\n",
       "      <td>False</td>\n",
       "      <td>[deleted]</td>\n",
       "      <td>False</td>\n",
       "      <td>1480697634</td>\n",
       "      <td>self.learnprogramming</td>\n",
       "      <td>0.0</td>\n",
       "      <td>1480698462</td>\n",
       "      <td>0.0</td>\n",
       "      <td>False</td>\n",
       "      <td>5g4awr</td>\n",
       "      <td>...</td>\n",
       "      <td>0.0</td>\n",
       "      <td>{}</td>\n",
       "      <td>[deleted]</td>\n",
       "      <td>False</td>\n",
       "      <td>False</td>\n",
       "      <td>learnprogramming</td>\n",
       "      <td>t5_2r7yd</td>\n",
       "      <td>default</td>\n",
       "      <td>[Java] Finding smallest value in an array</td>\n",
       "      <td>0.0</td>\n",
       "    </tr>\n",
       "  </tbody>\n",
       "</table>\n",
       "<p>1 rows × 30 columns</p>\n",
       "</div>"
      ],
      "text/plain": [
       "   archived     author  contest_mode  created_utc                 domain  \\\n",
       "3     False  [deleted]         False   1480697634  self.learnprogramming   \n",
       "\n",
       "   downs      edited  gilded  hide_score      id ...   score  \\\n",
       "3    0.0  1480698462     0.0       False  5g4awr ...     0.0   \n",
       "\n",
       "   secure_media_embed   selftext spoiler  stickied         subreddit  \\\n",
       "3                  {}  [deleted]   False     False  learnprogramming   \n",
       "\n",
       "  subreddit_id  thumbnail                                      title  ups  \n",
       "3     t5_2r7yd    default  [Java] Finding smallest value in an array  0.0  \n",
       "\n",
       "[1 rows x 30 columns]"
      ]
     },
     "execution_count": 19,
     "metadata": {},
     "output_type": "execute_result"
    }
   ],
   "source": [
    "# Display a [deleted] post\n",
    "data[data.selftext=='[deleted]'].head(1)"
   ]
  },
  {
   "cell_type": "code",
   "execution_count": 18,
   "metadata": {},
   "outputs": [
    {
     "data": {
      "text/html": [
       "<div>\n",
       "<style>\n",
       "    .dataframe thead tr:only-child th {\n",
       "        text-align: right;\n",
       "    }\n",
       "\n",
       "    .dataframe thead th {\n",
       "        text-align: left;\n",
       "    }\n",
       "\n",
       "    .dataframe tbody tr th {\n",
       "        vertical-align: top;\n",
       "    }\n",
       "</style>\n",
       "<table border=\"1\" class=\"dataframe\">\n",
       "  <thead>\n",
       "    <tr style=\"text-align: right;\">\n",
       "      <th></th>\n",
       "      <th>archived</th>\n",
       "      <th>author</th>\n",
       "      <th>contest_mode</th>\n",
       "      <th>created_utc</th>\n",
       "      <th>domain</th>\n",
       "      <th>downs</th>\n",
       "      <th>edited</th>\n",
       "      <th>gilded</th>\n",
       "      <th>hide_score</th>\n",
       "      <th>id</th>\n",
       "      <th>...</th>\n",
       "      <th>score</th>\n",
       "      <th>secure_media_embed</th>\n",
       "      <th>selftext</th>\n",
       "      <th>spoiler</th>\n",
       "      <th>stickied</th>\n",
       "      <th>subreddit</th>\n",
       "      <th>subreddit_id</th>\n",
       "      <th>thumbnail</th>\n",
       "      <th>title</th>\n",
       "      <th>ups</th>\n",
       "    </tr>\n",
       "  </thead>\n",
       "  <tbody>\n",
       "    <tr>\n",
       "      <th>8</th>\n",
       "      <td>False</td>\n",
       "      <td>Steakuddin</td>\n",
       "      <td>False</td>\n",
       "      <td>1480697900</td>\n",
       "      <td>self.linux</td>\n",
       "      <td>0.0</td>\n",
       "      <td>False</td>\n",
       "      <td>0.0</td>\n",
       "      <td>False</td>\n",
       "      <td>5g4btt</td>\n",
       "      <td>...</td>\n",
       "      <td>2.0</td>\n",
       "      <td>{}</td>\n",
       "      <td>[removed]</td>\n",
       "      <td>False</td>\n",
       "      <td>False</td>\n",
       "      <td>linux</td>\n",
       "      <td>t5_2qh1a</td>\n",
       "      <td>default</td>\n",
       "      <td>Requesting help with moving a file from local ...</td>\n",
       "      <td>2.0</td>\n",
       "    </tr>\n",
       "  </tbody>\n",
       "</table>\n",
       "<p>1 rows × 30 columns</p>\n",
       "</div>"
      ],
      "text/plain": [
       "   archived      author  contest_mode  created_utc      domain  downs edited  \\\n",
       "8     False  Steakuddin         False   1480697900  self.linux    0.0  False   \n",
       "\n",
       "   gilded  hide_score      id ...   score  secure_media_embed   selftext  \\\n",
       "8     0.0       False  5g4btt ...     2.0                  {}  [removed]   \n",
       "\n",
       "  spoiler  stickied  subreddit subreddit_id  thumbnail  \\\n",
       "8   False     False      linux     t5_2qh1a    default   \n",
       "\n",
       "                                               title  ups  \n",
       "8  Requesting help with moving a file from local ...  2.0  \n",
       "\n",
       "[1 rows x 30 columns]"
      ]
     },
     "execution_count": 18,
     "metadata": {},
     "output_type": "execute_result"
    }
   ],
   "source": [
    "# Display a [removed] post\n",
    "data[data.selftext=='[removed]'].head(1)"
   ]
  },
  {
   "cell_type": "markdown",
   "metadata": {},
   "source": [
    "Deleted and removed posts appear for both the `AutoModerator` and the human posts.  It is important to remove them since they are indistinguishable (based on text only).  Before we do that however, we take a look at how many there are exactly, and what percentage of the total number of rows they represent :"
   ]
  },
  {
   "cell_type": "code",
   "execution_count": 27,
   "metadata": {},
   "outputs": [
    {
     "name": "stdout",
     "output_type": "stream",
     "text": [
      "N rows          :  26688\n",
      "N [deleted]     :  5269\n",
      "N [removed]     :  3211\n",
      "Percent Missing :  31.774580335731414\n"
     ]
    }
   ],
   "source": [
    "# Get total number of rows, and the number of deleted/removed posts\n",
    "N_rows    = data.shape[0]\n",
    "N_deleted = data[data.selftext=='[deleted]'].shape[0]\n",
    "N_removed = data[data.selftext=='[removed]'].shape[0]\n",
    "\n",
    "# Display numbers and percentage of deleted + removed rows\n",
    "print('N rows          : ', N_rows)\n",
    "print('N [deleted]     : ', N_deleted)\n",
    "print('N [removed]     : ', N_removed)\n",
    "print('Percent Missing : ', 100*(N_deleted + N_removed) / N_rows)"
   ]
  },
  {
   "cell_type": "markdown",
   "metadata": {},
   "source": [
    "About 31% of our rows are missing.  This is a significant number, but again they add no value to what we are trying to predict, so we get rid of them here :"
   ]
  },
  {
   "cell_type": "code",
   "execution_count": 30,
   "metadata": {},
   "outputs": [],
   "source": [
    "data = data[(data.selftext != '[deleted]') & (data.selftext != '[removed]')]"
   ]
  },
  {
   "cell_type": "markdown",
   "metadata": {},
   "source": [
    "### Making the Target Columns \n",
    "\n",
    "Now that we've removed unnecessary rows, let's create our target feature : `is_moderator`.  This is a simple boolean column that takes 1 if the post is written by the `AutoModerator` 0 otherwise.  Note we are making a new DataFrame in case we need to extract information from the original one later on."
   ]
  },
  {
   "cell_type": "code",
   "execution_count": 31,
   "metadata": {
    "collapsed": true
   },
   "outputs": [],
   "source": [
    "# Create copy of columns of interest into a new DataFrame\n",
    "sub_data = data[['selftext', 'author']].copy()\n",
    "\n",
    "# Create a new column : is_moderator 1 if author=='AutoModerator' else 0\n",
    "sub_data['is_moderator'] = sub_data['author'].apply(lambda x: 1 if x=='AutoModerator' else 0)\n",
    "\n",
    "# Delete 'author` column (we don't need it anymore)\n",
    "sub_data.drop('author', axis=1, inplace=True)"
   ]
  },
  {
   "cell_type": "markdown",
   "metadata": {},
   "source": [
    "### Sample Posts \n",
    "Just to get an idea of the differences between automated posts and human ones, we take a look at one of each."
   ]
  },
  {
   "cell_type": "code",
   "execution_count": 33,
   "metadata": {},
   "outputs": [
    {
     "name": "stdout",
     "output_type": "stream",
     "text": [
      "AutoModerator Post :\n",
      "##Greetings Good People of /r/Technology,\n",
      "\n",
      "Welcome to the /r/Technology Tech Support / General Discussion Thread.\n",
      "\n",
      "**All questions must be submitted as top comments** (direct replies to this post).\n",
      "\n",
      "As always, we ask that you keep it civil, abide by the [rules of reddit](http://www.reddit.com/rules) and mind your [reddiquette](https://www.reddit.com/wiki/reddiquette).  Please hit the report button on any activity that you feel may be in violation of any of the guidelines listed above.\n",
      "\n",
      "[Click here to review past iterations of these support discussions.](https://www.reddit.com/r/technology/search?q=author%3AAutomoderator&amp;sort=new&amp;restrict_sr=on)\n",
      "\n",
      "cheers, /r/technology moderators.\n",
      "\n",
      "\n",
      "\n",
      "Other Post:\n",
      "I have a Sony surround sound system for a blu-ray player with the 4.2mm connectors. Is there a way I can play all my other devices through my speakers. What kind of connectors and amps do I need to get it to work\n"
     ]
    }
   ],
   "source": [
    "# Print a Sample post from the AutoModerator\n",
    "print('AutoModerator Post :')\n",
    "print(sub_data[sub_data['is_moderator'] == 1]['selftext'][355])\n",
    "print('\\n')\n",
    "\n",
    "# Print a sample post from the humans\n",
    "print('Other Post:')\n",
    "print(sub_data['selftext'][0])"
   ]
  },
  {
   "cell_type": "markdown",
   "metadata": {},
   "source": [
    "From this we see that there are some clear differences in style.  For example, the `AutoModerator` is generally polite, isn't asking questions, includes a lot of URLs, has well formated paragraphs/sentences, etc...  Judging from these differences, our model should work pretty well."
   ]
  },
  {
   "cell_type": "markdown",
   "metadata": {},
   "source": [
    "### Train Test Splitting\n",
    "Before going any further, let's separate our data.  First into *predictors* (`X`) and target (`y`), then into training and testing sets.  For this we use Stratification to keep the same proportion of `AutoModerator` posts in each split.\n",
    "\n",
    "** Important Note : ** Standard practice usually splits the train-test sets into 2/3 - 1/3 ratios respectively.  Because there are a lot of rows, for computational convenience we will be splitting the data 1/2 - 1/2.  This way there are less posts to build the model on, and things run a little faster. "
   ]
  },
  {
   "cell_type": "code",
   "execution_count": 34,
   "metadata": {
    "collapsed": true
   },
   "outputs": [],
   "source": [
    "# Define X0, y0 predictors and target before any splitting or transformation is done\n",
    "X0 = sub_data['selftext'].values.copy()\n",
    "y0 = sub_data['is_moderator'].values.copy()"
   ]
  },
  {
   "cell_type": "code",
   "execution_count": 35,
   "metadata": {
    "collapsed": true
   },
   "outputs": [],
   "source": [
    "# Create StratifiedShuffleSplit Generator\n",
    "# Note we are using test_size of 0.5 to minimize computation time in training the model.\n",
    "sss = StratifiedShuffleSplit(test_size=0.5, random_state=42, n_splits=1)\n",
    "sss_gen = sss.split(sub_data['selftext'], sub_data['is_moderator'])\n",
    "\n",
    "# Use indices from generator to get train-test data\n",
    "X_train, y_train = [], []\n",
    "X_test, y_test = [], []\n",
    "for i,j in sss_gen:\n",
    "    X_train.extend(X0[i])\n",
    "    y_train.extend(y0[i])\n",
    "    X_test.extend(X0[j])\n",
    "    y_test.extend(y0[j])\n",
    "    \n",
    "# Turn into numpy arrays\n",
    "X_train = np.array(X_train)\n",
    "y_train = np.array(y_train)\n",
    "X_test = np.array(X_test)\n",
    "y_test = np.array(y_test)"
   ]
  },
  {
   "cell_type": "code",
   "execution_count": 36,
   "metadata": {},
   "outputs": [
    {
     "name": "stdout",
     "output_type": "stream",
     "text": [
      "(9104,) (9104,)\n",
      "(9104,) (9104,)\n"
     ]
    }
   ],
   "source": [
    "# Check to make sure everything is okay :\n",
    "print(X_train.shape, y_train.shape)\n",
    "print(X_test.shape, y_test.shape)"
   ]
  },
  {
   "cell_type": "markdown",
   "metadata": {},
   "source": [
    "### Baseline Accuracy\n",
    "Althought this is a little bit out of place, before going any further we should define our **baseline accuracy**.  This is placed in the *Preprocessing* section so that we make sure it is defined before any changes have been made to the data.  We start by looking at how many `AutoModerator` posts there are in the testing set:"
   ]
  },
  {
   "cell_type": "code",
   "execution_count": 40,
   "metadata": {},
   "outputs": [
    {
     "name": "stdout",
     "output_type": "stream",
     "text": [
      "N People (test set)        :  9062\n",
      "N AutoModerator (test set) :  42\n",
      "test size                  :  9104\n"
     ]
    }
   ],
   "source": [
    "print('N People (test set)        : ', len(y_test) - sum(y_test))\n",
    "print('N AutoModerator (test set) : ', sum(y_test))\n",
    "print('test size                  : ', len(y_test))"
   ]
  },
  {
   "cell_type": "markdown",
   "metadata": {},
   "source": [
    "In our testing set, there are 42 `AutoModerator` posts out of 9104 posts.  From this we define our **baseline accuracy** as the accuracy we would get if we predict No `AutoModerator` posts in the testing set.\n",
    "<br><br>\n",
    "$$ \\text{baseline} = \\frac{N_{\\text{human}}}{N_{\\text{total}}} = \\frac{9062}{9104} \\approx 0.9954$$\n",
    "<br><br>\n",
    "where $N_{\\text{human}}$ is the number of posts (by people), and $N_{\\text{total}}$ is the total number of posts (`AutoModerator` and people).  We save this number to compare to our future model's result."
   ]
  },
  {
   "cell_type": "code",
   "execution_count": 41,
   "metadata": {},
   "outputs": [
    {
     "name": "stdout",
     "output_type": "stream",
     "text": [
      "0.995386643234\n"
     ]
    }
   ],
   "source": [
    "# Save Baseline accuracy\n",
    "baseline = (len(y_test) - sum(y_test)) / len(y_test)\n",
    "print(baseline)"
   ]
  },
  {
   "cell_type": "markdown",
   "metadata": {},
   "source": [
    "As we can see, there are so little `AutoModerators` that without doing anything we would already get a 99.5% accuracy.  But, that would be a useless model, ideally we should be able to bring this number up to 100%."
   ]
  },
  {
   "cell_type": "markdown",
   "metadata": {},
   "source": [
    "### Preprocessing the Text\n",
    "To make a good model, we are going to have to preprocess the text a little bit.  This may include taking out stopwords (common words that don't add meaning to the sentence such as \"I\", \"am\", etc), punctuation, stemming words (shortening things like \"scientist, science => scien, scien).  For this I will be using the following function, which was in large part taken from the lecture.  An **important distinction** however is an added functionality to flag URLs.\n",
    "<br>\n",
    "<br>\n",
    "Indeed, It seems like the `AutoModerator` includes URLs to various parts of reddit pretty often.  Because URLs include a lot of punctuation, and are all different, we decide to flag them.  This means that we are just taking note whether or not a piece of text is a URL or not.  We are not looking at where it links to.  URLs will be replaced with `thisisaurlletsflagit`.  For this I will be using a regular expression to find urls, which I did not write myself.  I found it on stackoverflow (https://stackoverflow.com/questions/6883049/regex-to-find-urls-in-string-in-python).  The reason for the odd text replacing the URLs is for one, because we want to minimize the chances of the replacement word to be in the text, and two because we don't care what the URLs are, we just want to know if there are any, and how many.\n",
    "<br>\n",
    "<br>\n",
    "To recap the following function : \n",
    "- Flags URLs\n",
    "- Turns all text to lower case (so that Dummy and dummy are considered the same word)\n",
    "- Stems words (so that Scientist and Scientific portray the same idea)\n",
    "- Removes Stop Words\n",
    "- Removes spaces"
   ]
  },
  {
   "cell_type": "code",
   "execution_count": 43,
   "metadata": {
    "collapsed": true
   },
   "outputs": [],
   "source": [
    "def process_text(text):\n",
    "    # Replace urls with a flag text\n",
    "    urls = re.findall('http[s]?://(?:[a-zA-Z]|[0-9]|[$-_@.&+]|[!*\\(\\),]|(?:%[0-9a-fA-F][0-9a-fA-F]))+', text)\n",
    "    if (urls != None):\n",
    "        for u in urls:\n",
    "            # Note that a space was added before and after to make sure the url flag is a separate word\n",
    "            text = text.replace(u, ' thisisaurlletsflagit ')\n",
    "\n",
    "    # Get stop words, and instantiate stemmer object\n",
    "    stop    = stopwords.words('english')\n",
    "    stemmer = PorterStemmer()\n",
    "    \n",
    "    # Make all characters in text lower case\n",
    "    text = text.lower()\n",
    "    \n",
    "    # Translations\n",
    "    # Since we marked URLS in a way that doesn't use punctuation, we can safely take punctuation out of the \n",
    "    # equation.\n",
    "    text = text.translate(str.maketrans('', '', string.punctuation)) # Remove punctuation\n",
    "    text = text.translate(str.maketrans('', '', string.digits)) # remove numbers\n",
    "    \n",
    "    # Split text into all its different words, and process the words individually\n",
    "    new_text = []\n",
    "    for w in text.split():\n",
    "        w = w.strip() # make sure there a no extra white spaces\n",
    "        if w in stop:\n",
    "            # Go to next iteration if w is a stop word\n",
    "            continue\n",
    "        \n",
    "        # Get rid of any left over apostrophes\n",
    "        w.replace(\"'\", \" \")\n",
    "        \n",
    "        # Stem words and append new word to a list\n",
    "        w = stemmer.stem(w)\n",
    "        new_text.append(w)\n",
    "    \n",
    "    # Return processed words as one long string\n",
    "    return ' '.join(new_text)"
   ]
  },
  {
   "cell_type": "markdown",
   "metadata": {},
   "source": [
    "** Note : ** We will not actually be running this function on our DataFrame because the NLP tools we will be using have a `preprocessor` parameter that we can assign to the function."
   ]
  },
  {
   "cell_type": "markdown",
   "metadata": {},
   "source": [
    "### Preprocessing - `CountVectorizer`\n",
    "To transform text into useful features there are a number of options.  The first we explore is the `CountVectorizer`, from the `SciKitLearn` library.  This tool counts the occurances of each word in the text, and saves the results as a dictionary : `{word : word_count}`.  As an option it can take `min_df=0.5` for example which means that only words that appear in 50% of the documents (posts in our case) will be saved in the dictionary.  This is a way to weed out features that will not provide much information to our model, but slow things down considerably.  That being said, we are using this parameter to only keep words that appear in 5 % of the documents."
   ]
  },
  {
   "cell_type": "code",
   "execution_count": 44,
   "metadata": {},
   "outputs": [],
   "source": [
    "# Instantiate CountVectorizer object, only keep words that appear in 5% of the documents.\n",
    "cv = CountVectorizer(preprocessor=process_text, min_df=0.05)\n",
    "cv.fit(X_train, y_train)\n",
    "\n",
    "# Transform the data\n",
    "X_cv = cv.transform(X_train)"
   ]
  },
  {
   "cell_type": "code",
   "execution_count": 45,
   "metadata": {
    "collapsed": true
   },
   "outputs": [],
   "source": [
    "# Turn the transformed data into a DataFrame\n",
    "X_cv = pd.DataFrame(X_cv.todense(), columns=cv.get_feature_names())"
   ]
  },
  {
   "cell_type": "code",
   "execution_count": 46,
   "metadata": {},
   "outputs": [
    {
     "data": {
      "text/html": [
       "<div>\n",
       "<style>\n",
       "    .dataframe thead tr:only-child th {\n",
       "        text-align: right;\n",
       "    }\n",
       "\n",
       "    .dataframe thead th {\n",
       "        text-align: left;\n",
       "    }\n",
       "\n",
       "    .dataframe tbody tr th {\n",
       "        vertical-align: top;\n",
       "    }\n",
       "</style>\n",
       "<table border=\"1\" class=\"dataframe\">\n",
       "  <thead>\n",
       "    <tr style=\"text-align: right;\">\n",
       "      <th></th>\n",
       "      <th>abl</th>\n",
       "      <th>actual</th>\n",
       "      <th>advanc</th>\n",
       "      <th>ago</th>\n",
       "      <th>also</th>\n",
       "      <th>anoth</th>\n",
       "      <th>anyon</th>\n",
       "      <th>anyth</th>\n",
       "      <th>app</th>\n",
       "      <th>appreci</th>\n",
       "      <th>...</th>\n",
       "      <th>way</th>\n",
       "      <th>websit</th>\n",
       "      <th>week</th>\n",
       "      <th>well</th>\n",
       "      <th>window</th>\n",
       "      <th>without</th>\n",
       "      <th>wonder</th>\n",
       "      <th>work</th>\n",
       "      <th>would</th>\n",
       "      <th>year</th>\n",
       "    </tr>\n",
       "  </thead>\n",
       "  <tbody>\n",
       "    <tr>\n",
       "      <th>0</th>\n",
       "      <td>0</td>\n",
       "      <td>0</td>\n",
       "      <td>0</td>\n",
       "      <td>1</td>\n",
       "      <td>0</td>\n",
       "      <td>0</td>\n",
       "      <td>1</td>\n",
       "      <td>0</td>\n",
       "      <td>0</td>\n",
       "      <td>1</td>\n",
       "      <td>...</td>\n",
       "      <td>0</td>\n",
       "      <td>0</td>\n",
       "      <td>0</td>\n",
       "      <td>1</td>\n",
       "      <td>1</td>\n",
       "      <td>0</td>\n",
       "      <td>0</td>\n",
       "      <td>4</td>\n",
       "      <td>1</td>\n",
       "      <td>1</td>\n",
       "    </tr>\n",
       "    <tr>\n",
       "      <th>1</th>\n",
       "      <td>0</td>\n",
       "      <td>0</td>\n",
       "      <td>0</td>\n",
       "      <td>0</td>\n",
       "      <td>0</td>\n",
       "      <td>0</td>\n",
       "      <td>0</td>\n",
       "      <td>0</td>\n",
       "      <td>0</td>\n",
       "      <td>0</td>\n",
       "      <td>...</td>\n",
       "      <td>1</td>\n",
       "      <td>0</td>\n",
       "      <td>0</td>\n",
       "      <td>0</td>\n",
       "      <td>0</td>\n",
       "      <td>0</td>\n",
       "      <td>0</td>\n",
       "      <td>2</td>\n",
       "      <td>0</td>\n",
       "      <td>0</td>\n",
       "    </tr>\n",
       "    <tr>\n",
       "      <th>2</th>\n",
       "      <td>0</td>\n",
       "      <td>0</td>\n",
       "      <td>0</td>\n",
       "      <td>0</td>\n",
       "      <td>0</td>\n",
       "      <td>0</td>\n",
       "      <td>0</td>\n",
       "      <td>0</td>\n",
       "      <td>1</td>\n",
       "      <td>0</td>\n",
       "      <td>...</td>\n",
       "      <td>0</td>\n",
       "      <td>0</td>\n",
       "      <td>0</td>\n",
       "      <td>0</td>\n",
       "      <td>0</td>\n",
       "      <td>1</td>\n",
       "      <td>0</td>\n",
       "      <td>0</td>\n",
       "      <td>1</td>\n",
       "      <td>0</td>\n",
       "    </tr>\n",
       "    <tr>\n",
       "      <th>3</th>\n",
       "      <td>0</td>\n",
       "      <td>0</td>\n",
       "      <td>0</td>\n",
       "      <td>1</td>\n",
       "      <td>0</td>\n",
       "      <td>0</td>\n",
       "      <td>0</td>\n",
       "      <td>0</td>\n",
       "      <td>0</td>\n",
       "      <td>0</td>\n",
       "      <td>...</td>\n",
       "      <td>0</td>\n",
       "      <td>0</td>\n",
       "      <td>1</td>\n",
       "      <td>0</td>\n",
       "      <td>0</td>\n",
       "      <td>0</td>\n",
       "      <td>0</td>\n",
       "      <td>0</td>\n",
       "      <td>0</td>\n",
       "      <td>0</td>\n",
       "    </tr>\n",
       "    <tr>\n",
       "      <th>4</th>\n",
       "      <td>0</td>\n",
       "      <td>0</td>\n",
       "      <td>0</td>\n",
       "      <td>0</td>\n",
       "      <td>0</td>\n",
       "      <td>0</td>\n",
       "      <td>0</td>\n",
       "      <td>1</td>\n",
       "      <td>0</td>\n",
       "      <td>0</td>\n",
       "      <td>...</td>\n",
       "      <td>0</td>\n",
       "      <td>0</td>\n",
       "      <td>0</td>\n",
       "      <td>0</td>\n",
       "      <td>0</td>\n",
       "      <td>2</td>\n",
       "      <td>0</td>\n",
       "      <td>1</td>\n",
       "      <td>4</td>\n",
       "      <td>0</td>\n",
       "    </tr>\n",
       "  </tbody>\n",
       "</table>\n",
       "<p>5 rows × 199 columns</p>\n",
       "</div>"
      ],
      "text/plain": [
       "   abl  actual  advanc  ago  also  anoth  anyon  anyth  app  appreci  ...   \\\n",
       "0    0       0       0    1     0      0      1      0    0        1  ...    \n",
       "1    0       0       0    0     0      0      0      0    0        0  ...    \n",
       "2    0       0       0    0     0      0      0      0    1        0  ...    \n",
       "3    0       0       0    1     0      0      0      0    0        0  ...    \n",
       "4    0       0       0    0     0      0      0      1    0        0  ...    \n",
       "\n",
       "   way  websit  week  well  window  without  wonder  work  would  year  \n",
       "0    0       0     0     1       1        0       0     4      1     1  \n",
       "1    1       0     0     0       0        0       0     2      0     0  \n",
       "2    0       0     0     0       0        1       0     0      1     0  \n",
       "3    0       0     1     0       0        0       0     0      0     0  \n",
       "4    0       0     0     0       0        2       0     1      4     0  \n",
       "\n",
       "[5 rows x 199 columns]"
      ]
     },
     "execution_count": 46,
     "metadata": {},
     "output_type": "execute_result"
    }
   ],
   "source": [
    "X_cv.head()"
   ]
  },
  {
   "cell_type": "markdown",
   "metadata": {},
   "source": [
    "### EDA - `CountVectorizer`\n",
    "With the `CountVectorizer` we've turned our text into 199 different features.  With this we can perform a little EDA and take a look at which words appear most often in `AutoModerator` posts and human posts. "
   ]
  },
  {
   "cell_type": "code",
   "execution_count": 48,
   "metadata": {},
   "outputs": [
    {
     "name": "stdout",
     "output_type": "stream",
     "text": [
      "thisisaurlletsflagit    96\n",
      "question                78\n",
      "post                    60\n",
      "use                     54\n",
      "code                    46\n",
      "solut                   46\n",
      "pleas                   39\n",
      "help                    27\n",
      "ask                     20\n",
      "make                    19\n",
      "dtype: int64\n"
     ]
    }
   ],
   "source": [
    "# Top 10 used words used for posts by the AutoModerator\n",
    "auto_top10 = X_cv[y_train==1].sum().sort_values(ascending=False)[:10]\n",
    "print(auto_top10)"
   ]
  },
  {
   "cell_type": "code",
   "execution_count": 49,
   "metadata": {},
   "outputs": [
    {
     "name": "stdout",
     "output_type": "stream",
     "text": [
      "use                     5983\n",
      "im                      5857\n",
      "tri                     5152\n",
      "work                    4682\n",
      "window                  4123\n",
      "get                     4092\n",
      "thisisaurlletsflagit    4076\n",
      "like                    3660\n",
      "would                   3656\n",
      "ive                     3557\n",
      "dtype: int64\n"
     ]
    }
   ],
   "source": [
    "# Top 10 used words used for posts not written by the AutoModerator\n",
    "human_top10 = X_cv[y_train == 0].sum().sort_values(ascending=False)[:10]\n",
    "print(human_top10)"
   ]
  },
  {
   "cell_type": "markdown",
   "metadata": {},
   "source": [
    "Now, mostly for fun, and a more visual representation of how words appear in different posts.  Let's make a wordcloud.  A Word cloud is simply a an image of most common words in a text.  The size of a word's font is proportional to the number of times it appears in the text.  For this we have to concatenate all the text together.  The following code does exactly that :"
   ]
  },
  {
   "cell_type": "code",
   "execution_count": 112,
   "metadata": {
    "collapsed": true
   },
   "outputs": [],
   "source": [
    "# Define string variables to hold the entire text\n",
    "all_text   = '' # ALL text\n",
    "human_text = '' # Only text written by humans\n",
    "bot_text   = '' # Only text written by the AutoModerator\n",
    "\n",
    "# Loop through posts in the training set, and concatenate the text to the \n",
    "# corresponding variables\n",
    "for i, t in enumerate(X_train):\n",
    "    all_text += t\n",
    "    all_text += ' '\n",
    "    \n",
    "    if (y_train[i] == 1):\n",
    "        # AutoModerator Text\n",
    "        bot_text += t\n",
    "        bot_text += ' ' # add space so that ending/beginning words aren't glued together\n",
    "    elif(y_train[i] == 0):\n",
    "        # Human Text\n",
    "        human_text += t\n",
    "        human_text += ' '"
   ]
  },
  {
   "cell_type": "markdown",
   "metadata": {},
   "source": [
    "With the text put into long strings, let's use that to make the word clouds!"
   ]
  },
  {
   "cell_type": "code",
   "execution_count": 113,
   "metadata": {
    "collapsed": true
   },
   "outputs": [],
   "source": [
    "# Make the different word cloud objects\n",
    "cloud_all   = WordCloud().generate(all_text)\n",
    "cloud_human = WordCloud().generate(human_text)\n",
    "cloud_bot  = WordCloud().generate(bot_text)"
   ]
  },
  {
   "cell_type": "code",
   "execution_count": 137,
   "metadata": {},
   "outputs": [
    {
     "data": {
      "image/png": "[encoded data removed]",
      "text/plain": [
       "<matplotlib.figure.Figure at 0x7f71b48a4860>"
      ]
     },
     "metadata": {},
     "output_type": "display_data"
    }
   ],
   "source": [
    "# Use cloud objects to generate the images\n",
    "f = plt.figure(figsize=(8,8))\n",
    "ax1 = plt.subplot2grid((2,2), (0,0))\n",
    "ax1.imshow(cloud_all, interpolation='bilinear')\n",
    "ax1.axis('off');\n",
    "ax1.set_title('All Posts', fontsize=20)\n",
    "\n",
    "\n",
    "ax2 = plt.subplot2grid((2,2), (0,1))\n",
    "ax2.imshow(cloud_human, interpolation='bilinear')\n",
    "ax2.axis('off');\n",
    "ax2.set_title('Human Posts', fontsize=20)\n",
    "\n",
    "ax3 = plt.subplot2grid((2,2), (1,0), colspan=2)\n",
    "ax3.imshow(cloud_bot, interpolation='bilinear')\n",
    "ax3.axis('off');\n",
    "ax3.set_title('AutoModerator Posts', fontsize=20)\n",
    "f.tight_layout()\n",
    "plt.show()"
   ]
  },
  {
   "cell_type": "markdown",
   "metadata": {},
   "source": [
    "Alright, this is very good.  Based on the word counts and clouds, we can see that the `AutoModerator` definitely has a different vocabulary than the humans.  Also, the URL flag we set up earlier appears in both sets, but the judging by the fact that `thisisaurlletsflagit` is the top word for the `AutoModerator`, it should be pretty helpful in classifying the two genres.\n",
    "<br><br>\n",
    "Now we could take a look at correlations between words, but honestly I'm not sure it's very useful.  The cloud already gives us an idea of what's correlated with `AutoModerator`, so let's jump right into the model from here!"
   ]
  },
  {
   "cell_type": "markdown",
   "metadata": {},
   "source": [
    "### `RandomForestClassifier` with `CountVectorizer`\n",
    "Without further ado, let's make our model!  For this we will using a `RandomForestClassifier`.  Let's start by running a `GridSearch` to find the best parameters for our model :"
   ]
  },
  {
   "cell_type": "code",
   "execution_count": 141,
   "metadata": {
    "collapsed": true
   },
   "outputs": [],
   "source": [
    "# GridSearch Set up for Our classification Model.\n",
    "params = {\n",
    "        'n_estimators' : [1, 5, 10, 20, 50, 100],\n",
    "        'max_depth'     : [None, 5, 10, 20, 30]\n",
    "}\n",
    "M = RandomForestClassifier()\n",
    "gs = GridSearchCV(M, param_grid=params, n_jobs=-1)"
   ]
  },
  {
   "cell_type": "code",
   "execution_count": 142,
   "metadata": {},
   "outputs": [
    {
     "data": {
      "text/plain": [
       "GridSearchCV(cv=None, error_score='raise',\n",
       "       estimator=RandomForestClassifier(bootstrap=True, class_weight=None, criterion='gini',\n",
       "            max_depth=None, max_features='auto', max_leaf_nodes=None,\n",
       "            min_impurity_split=1e-07, min_samples_leaf=1,\n",
       "            min_samples_split=2, min_weight_fraction_leaf=0.0,\n",
       "            n_estimators=10, n_jobs=1, oob_score=False, random_state=None,\n",
       "            verbose=0, warm_start=False),\n",
       "       fit_params={}, iid=True, n_jobs=-1,\n",
       "       param_grid={'n_estimators': [1, 5, 10, 20, 50, 100], 'max_depth': [None, 5, 10, 20, 30]},\n",
       "       pre_dispatch='2*n_jobs', refit=True, return_train_score=True,\n",
       "       scoring=None, verbose=0)"
      ]
     },
     "execution_count": 142,
     "metadata": {},
     "output_type": "execute_result"
    }
   ],
   "source": [
    "# Running the Grid search :\n",
    "gs.fit(X_cv, y_train)"
   ]
  },
  {
   "cell_type": "markdown",
   "metadata": {},
   "source": [
    "Let's print out the best parameters for our `GridSearch`, and with those make our model object."
   ]
  },
  {
   "cell_type": "code",
   "execution_count": 144,
   "metadata": {},
   "outputs": [
    {
     "name": "stdout",
     "output_type": "stream",
     "text": [
      "{'max_depth': None, 'n_estimators': 50}\n"
     ]
    }
   ],
   "source": [
    "print(gs.best_params_)"
   ]
  },
  {
   "cell_type": "code",
   "execution_count": 145,
   "metadata": {},
   "outputs": [
    {
     "data": {
      "text/plain": [
       "RandomForestClassifier(bootstrap=True, class_weight=None, criterion='gini',\n",
       "            max_depth=None, max_features='auto', max_leaf_nodes=None,\n",
       "            min_impurity_split=1e-07, min_samples_leaf=1,\n",
       "            min_samples_split=2, min_weight_fraction_leaf=0.0,\n",
       "            n_estimators=50, n_jobs=-1, oob_score=False, random_state=None,\n",
       "            verbose=0, warm_start=False)"
      ]
     },
     "execution_count": 145,
     "metadata": {},
     "output_type": "execute_result"
    }
   ],
   "source": [
    "# Make our model :\n",
    "M = RandomForestClassifier(max_depth=None, n_estimators=50, n_jobs=-1)\n",
    "M.fit(X_cv, y_train)"
   ]
  },
  {
   "cell_type": "markdown",
   "metadata": {},
   "source": [
    "With our fitted model, let's take a look at how it fares with the training set.  For this we are using a function : `print_classification_results` from the `tools.py` module, which simply prints the score (accuracy), and difference with the baseline, and the confusion matrix:"
   ]
  },
  {
   "cell_type": "code",
   "execution_count": 149,
   "metadata": {},
   "outputs": [
    {
     "name": "stdout",
     "output_type": "stream",
     "text": [
      "Score (Accuracy) :  1.0\n",
      "% Difference with Baseline :  0.461335676626\n",
      "\n",
      "Confusion Matrix :\n",
      "[[9061    0]\n",
      " [   0   43]]\n"
     ]
    }
   ],
   "source": [
    "# Print results\n",
    "tools.print_classification_results(M, X_cv, y_train, baseline)"
   ]
  },
  {
   "cell_type": "markdown",
   "metadata": {},
   "source": [
    "So the improvement from our baseline is about 0.46% better.  Which is actually quite good considering the small number of `AutoModerator` posts in the set.  Out of the 43 `AutoModerators`, we've already correctly classified all of them, with no False positives or False negatives.  This works quite well!\n",
    "<br><br>\n",
    "Let's see if we can get similar accuracy with our **test set**, note that we want to use the same object to transform the training and testing data.  This is also using the same function for preprocessing the text. "
   ]
  },
  {
   "cell_type": "code",
   "execution_count": 150,
   "metadata": {
    "collapsed": true
   },
   "outputs": [],
   "source": [
    "# Transform predictors in test set.\n",
    "X_cv_test = cv.transform(X_test)"
   ]
  },
  {
   "cell_type": "code",
   "execution_count": 151,
   "metadata": {},
   "outputs": [
    {
     "name": "stdout",
     "output_type": "stream",
     "text": [
      "Score (Accuracy) :  0.999890158172\n",
      "% Difference with Baseline :  0.450351493849\n",
      "\n",
      "Confusion Matrix :\n",
      "[[9062    0]\n",
      " [   1   41]]\n"
     ]
    }
   ],
   "source": [
    "tools.print_classification_results(M, X_cv_test, y_test, baseline)"
   ]
  },
  {
   "cell_type": "markdown",
   "metadata": {},
   "source": [
    "The model did not do as good a job with our testing set.  It is misclassifying 1 `AutoModerator`.  **How can we make this better?**"
   ]
  },
  {
   "cell_type": "markdown",
   "metadata": {},
   "source": [
    "### Preprocessing with `TfidfVectorizer`\n",
    "Since our model using `CountVectorizer` needed some improvement (albeit not much), let's take a look at what happens when we use a different preprocessing technique  `TfidVectorizer`. Straight from the documentation : *\"Tf means term-frequency while tf-idf means term-frequency times inverse document-frequency\"*.  This means, with Tf-idf we are adding a weight to the word counts as follows :\n",
    "<br><br>\n",
    "$$\n",
    "W = tf(t,D) - idf(t,d) = \\frac{N_{\\text{term}}}{N_{\\text{docs}}} - \\log\\left(\\frac{N_{\\text{docs}}}{N_{\\text{docs_with_t}}}\\right)\n",
    "$$\n",
    "<br><br>\n",
    "With this method, we are not only counting the words but taking into account how some words may occur more frequently in certain texts.  This helps to identify vocabulary that is representative of certains texts.\n",
    "<br><br>\n",
    "With this in mind, let's calculate those weights!"
   ]
  },
  {
   "cell_type": "code",
   "execution_count": 158,
   "metadata": {
    "collapsed": true
   },
   "outputs": [],
   "source": [
    "# Create Features with TFidVectorizer\n",
    "tf = TfidfVectorizer(preprocessor=process_text, min_df=0.05)\n",
    "tf.fit(X_train, y_train)\n",
    "X_tf = tf.transform(X_train)"
   ]
  },
  {
   "cell_type": "code",
   "execution_count": 159,
   "metadata": {},
   "outputs": [
    {
     "data": {
      "text/html": [
       "<div>\n",
       "<style>\n",
       "    .dataframe thead tr:only-child th {\n",
       "        text-align: right;\n",
       "    }\n",
       "\n",
       "    .dataframe thead th {\n",
       "        text-align: left;\n",
       "    }\n",
       "\n",
       "    .dataframe tbody tr th {\n",
       "        vertical-align: top;\n",
       "    }\n",
       "</style>\n",
       "<table border=\"1\" class=\"dataframe\">\n",
       "  <thead>\n",
       "    <tr style=\"text-align: right;\">\n",
       "      <th></th>\n",
       "      <th>abl</th>\n",
       "      <th>actual</th>\n",
       "      <th>advanc</th>\n",
       "      <th>ago</th>\n",
       "      <th>also</th>\n",
       "      <th>anoth</th>\n",
       "      <th>anyon</th>\n",
       "      <th>anyth</th>\n",
       "      <th>app</th>\n",
       "      <th>appreci</th>\n",
       "      <th>...</th>\n",
       "      <th>way</th>\n",
       "      <th>websit</th>\n",
       "      <th>week</th>\n",
       "      <th>well</th>\n",
       "      <th>window</th>\n",
       "      <th>without</th>\n",
       "      <th>wonder</th>\n",
       "      <th>work</th>\n",
       "      <th>would</th>\n",
       "      <th>year</th>\n",
       "    </tr>\n",
       "  </thead>\n",
       "  <tbody>\n",
       "    <tr>\n",
       "      <th>0</th>\n",
       "      <td>0.0</td>\n",
       "      <td>0.0</td>\n",
       "      <td>0.0</td>\n",
       "      <td>0.087237</td>\n",
       "      <td>0.0</td>\n",
       "      <td>0.0</td>\n",
       "      <td>0.073266</td>\n",
       "      <td>0.000000</td>\n",
       "      <td>0.000000</td>\n",
       "      <td>0.075039</td>\n",
       "      <td>...</td>\n",
       "      <td>0.000000</td>\n",
       "      <td>0.0</td>\n",
       "      <td>0.000000</td>\n",
       "      <td>0.082559</td>\n",
       "      <td>0.056194</td>\n",
       "      <td>0.000000</td>\n",
       "      <td>0.0</td>\n",
       "      <td>0.200583</td>\n",
       "      <td>0.053277</td>\n",
       "      <td>0.083046</td>\n",
       "    </tr>\n",
       "    <tr>\n",
       "      <th>1</th>\n",
       "      <td>0.0</td>\n",
       "      <td>0.0</td>\n",
       "      <td>0.0</td>\n",
       "      <td>0.000000</td>\n",
       "      <td>0.0</td>\n",
       "      <td>0.0</td>\n",
       "      <td>0.000000</td>\n",
       "      <td>0.000000</td>\n",
       "      <td>0.000000</td>\n",
       "      <td>0.000000</td>\n",
       "      <td>...</td>\n",
       "      <td>0.162955</td>\n",
       "      <td>0.0</td>\n",
       "      <td>0.000000</td>\n",
       "      <td>0.000000</td>\n",
       "      <td>0.000000</td>\n",
       "      <td>0.000000</td>\n",
       "      <td>0.0</td>\n",
       "      <td>0.242929</td>\n",
       "      <td>0.000000</td>\n",
       "      <td>0.000000</td>\n",
       "    </tr>\n",
       "    <tr>\n",
       "      <th>2</th>\n",
       "      <td>0.0</td>\n",
       "      <td>0.0</td>\n",
       "      <td>0.0</td>\n",
       "      <td>0.000000</td>\n",
       "      <td>0.0</td>\n",
       "      <td>0.0</td>\n",
       "      <td>0.000000</td>\n",
       "      <td>0.000000</td>\n",
       "      <td>0.344532</td>\n",
       "      <td>0.000000</td>\n",
       "      <td>...</td>\n",
       "      <td>0.000000</td>\n",
       "      <td>0.0</td>\n",
       "      <td>0.000000</td>\n",
       "      <td>0.000000</td>\n",
       "      <td>0.000000</td>\n",
       "      <td>0.324921</td>\n",
       "      <td>0.0</td>\n",
       "      <td>0.000000</td>\n",
       "      <td>0.202381</td>\n",
       "      <td>0.000000</td>\n",
       "    </tr>\n",
       "    <tr>\n",
       "      <th>3</th>\n",
       "      <td>0.0</td>\n",
       "      <td>0.0</td>\n",
       "      <td>0.0</td>\n",
       "      <td>0.284070</td>\n",
       "      <td>0.0</td>\n",
       "      <td>0.0</td>\n",
       "      <td>0.000000</td>\n",
       "      <td>0.000000</td>\n",
       "      <td>0.000000</td>\n",
       "      <td>0.000000</td>\n",
       "      <td>...</td>\n",
       "      <td>0.000000</td>\n",
       "      <td>0.0</td>\n",
       "      <td>0.303621</td>\n",
       "      <td>0.000000</td>\n",
       "      <td>0.000000</td>\n",
       "      <td>0.000000</td>\n",
       "      <td>0.0</td>\n",
       "      <td>0.000000</td>\n",
       "      <td>0.000000</td>\n",
       "      <td>0.000000</td>\n",
       "    </tr>\n",
       "    <tr>\n",
       "      <th>4</th>\n",
       "      <td>0.0</td>\n",
       "      <td>0.0</td>\n",
       "      <td>0.0</td>\n",
       "      <td>0.000000</td>\n",
       "      <td>0.0</td>\n",
       "      <td>0.0</td>\n",
       "      <td>0.000000</td>\n",
       "      <td>0.090155</td>\n",
       "      <td>0.000000</td>\n",
       "      <td>0.000000</td>\n",
       "      <td>...</td>\n",
       "      <td>0.000000</td>\n",
       "      <td>0.0</td>\n",
       "      <td>0.000000</td>\n",
       "      <td>0.000000</td>\n",
       "      <td>0.000000</td>\n",
       "      <td>0.204635</td>\n",
       "      <td>0.0</td>\n",
       "      <td>0.059985</td>\n",
       "      <td>0.254920</td>\n",
       "      <td>0.000000</td>\n",
       "    </tr>\n",
       "  </tbody>\n",
       "</table>\n",
       "<p>5 rows × 199 columns</p>\n",
       "</div>"
      ],
      "text/plain": [
       "   abl  actual  advanc       ago  also  anoth     anyon     anyth       app  \\\n",
       "0  0.0     0.0     0.0  0.087237   0.0    0.0  0.073266  0.000000  0.000000   \n",
       "1  0.0     0.0     0.0  0.000000   0.0    0.0  0.000000  0.000000  0.000000   \n",
       "2  0.0     0.0     0.0  0.000000   0.0    0.0  0.000000  0.000000  0.344532   \n",
       "3  0.0     0.0     0.0  0.284070   0.0    0.0  0.000000  0.000000  0.000000   \n",
       "4  0.0     0.0     0.0  0.000000   0.0    0.0  0.000000  0.090155  0.000000   \n",
       "\n",
       "    appreci    ...          way  websit      week      well    window  \\\n",
       "0  0.075039    ...     0.000000     0.0  0.000000  0.082559  0.056194   \n",
       "1  0.000000    ...     0.162955     0.0  0.000000  0.000000  0.000000   \n",
       "2  0.000000    ...     0.000000     0.0  0.000000  0.000000  0.000000   \n",
       "3  0.000000    ...     0.000000     0.0  0.303621  0.000000  0.000000   \n",
       "4  0.000000    ...     0.000000     0.0  0.000000  0.000000  0.000000   \n",
       "\n",
       "    without  wonder      work     would      year  \n",
       "0  0.000000     0.0  0.200583  0.053277  0.083046  \n",
       "1  0.000000     0.0  0.242929  0.000000  0.000000  \n",
       "2  0.324921     0.0  0.000000  0.202381  0.000000  \n",
       "3  0.000000     0.0  0.000000  0.000000  0.000000  \n",
       "4  0.204635     0.0  0.059985  0.254920  0.000000  \n",
       "\n",
       "[5 rows x 199 columns]"
      ]
     },
     "execution_count": 159,
     "metadata": {},
     "output_type": "execute_result"
    }
   ],
   "source": [
    "# Make DataFrame to get a view of what our data looks like\n",
    "X_tf = pd.DataFrame(X_tf.todense(), columns=cv.get_feature_names())\n",
    "X_tf.head()"
   ]
  },
  {
   "cell_type": "markdown",
   "metadata": {},
   "source": [
    "### `RandomForestClassifier` with `TfidfVectorizer`"
   ]
  },
  {
   "cell_type": "markdown",
   "metadata": {},
   "source": [
    "Now we'll be going through the same basic process as with the `CountVectorizer` so here it goes :"
   ]
  },
  {
   "cell_type": "code",
   "execution_count": 180,
   "metadata": {
    "collapsed": true
   },
   "outputs": [],
   "source": [
    "# GridSearch Set up for Our classification Model.\n",
    "params = {\n",
    "        'n_estimators' : [1, 5, 10, 20, 50, 100],\n",
    "        'max_depth'     : [None, 5, 10, 20, 30]\n",
    "}\n",
    "M = RandomForestClassifier(n_jobs=-1)\n",
    "gs = GridSearchCV(M, param_grid=params, n_jobs=-1)"
   ]
  },
  {
   "cell_type": "code",
   "execution_count": 181,
   "metadata": {},
   "outputs": [
    {
     "data": {
      "text/plain": [
       "GridSearchCV(cv=None, error_score='raise',\n",
       "       estimator=RandomForestClassifier(bootstrap=True, class_weight=None, criterion='gini',\n",
       "            max_depth=None, max_features='auto', max_leaf_nodes=None,\n",
       "            min_impurity_split=1e-07, min_samples_leaf=1,\n",
       "            min_samples_split=2, min_weight_fraction_leaf=0.0,\n",
       "            n_estimators=10, n_jobs=-1, oob_score=False, random_state=None,\n",
       "            verbose=0, warm_start=False),\n",
       "       fit_params={}, iid=True, n_jobs=-1,\n",
       "       param_grid={'n_estimators': [1, 5, 10, 20, 50, 100], 'max_depth': [None, 5, 10, 20, 30]},\n",
       "       pre_dispatch='2*n_jobs', refit=True, return_train_score=True,\n",
       "       scoring=None, verbose=0)"
      ]
     },
     "execution_count": 181,
     "metadata": {},
     "output_type": "execute_result"
    }
   ],
   "source": [
    "# Running the Grid search :\n",
    "gs.fit(X_tf, y_train)"
   ]
  },
  {
   "cell_type": "code",
   "execution_count": 182,
   "metadata": {},
   "outputs": [
    {
     "name": "stdout",
     "output_type": "stream",
     "text": [
      "{'max_depth': None, 'n_estimators': 50}\n"
     ]
    }
   ],
   "source": [
    "# Print best parameters for gridsearch\n",
    "print(gs.best_params_)"
   ]
  },
  {
   "cell_type": "code",
   "execution_count": 183,
   "metadata": {},
   "outputs": [
    {
     "data": {
      "text/plain": [
       "RandomForestClassifier(bootstrap=True, class_weight=None, criterion='gini',\n",
       "            max_depth=None, max_features='auto', max_leaf_nodes=None,\n",
       "            min_impurity_split=1e-07, min_samples_leaf=1,\n",
       "            min_samples_split=2, min_weight_fraction_leaf=0.0,\n",
       "            n_estimators=50, n_jobs=-1, oob_score=False, random_state=None,\n",
       "            verbose=0, warm_start=False)"
      ]
     },
     "execution_count": 183,
     "metadata": {},
     "output_type": "execute_result"
    }
   ],
   "source": [
    "# Train our model with the best parameters :\n",
    "M = RandomForestClassifier(n_jobs=-1, max_depth=None, n_estimators=50)\n",
    "M.fit(X_tf, y_train)"
   ]
  },
  {
   "cell_type": "markdown",
   "metadata": {},
   "source": [
    "With our fitted model, let's take a look at the results using the training set :"
   ]
  },
  {
   "cell_type": "code",
   "execution_count": 184,
   "metadata": {},
   "outputs": [
    {
     "name": "stdout",
     "output_type": "stream",
     "text": [
      "Score (Accuracy) :  1.0\n",
      "% Difference with Baseline :  0.461335676626\n",
      "\n",
      "Confusion Matrix :\n",
      "[[9061    0]\n",
      " [   0   43]]\n"
     ]
    }
   ],
   "source": [
    "tools.print_classification_results(M, X_tf, y_train, baseline)"
   ]
  },
  {
   "cell_type": "markdown",
   "metadata": {},
   "source": [
    "So far so good, using `TfidfVectorizer` we are correctly classifying all of our posts in our training set.\n",
    "<br><br>\n",
    "**So how did we do with our testing set?**\n",
    "<br> "
   ]
  },
  {
   "cell_type": "code",
   "execution_count": 185,
   "metadata": {
    "collapsed": true
   },
   "outputs": [],
   "source": [
    "# Transform testing set using the TfidfVectorizer object:\n",
    "X_tf_test = tf.transform(X_test)"
   ]
  },
  {
   "cell_type": "code",
   "execution_count": 186,
   "metadata": {},
   "outputs": [
    {
     "name": "stdout",
     "output_type": "stream",
     "text": [
      "Score (Accuracy) :  0.999890158172\n",
      "% Difference with Baseline :  0.450351493849\n",
      "\n",
      "Confusion Matrix :\n",
      "[[9062    0]\n",
      " [   1   41]]\n"
     ]
    }
   ],
   "source": [
    "tools.print_classification_results(M, X_tf_test, y_test, baseline)"
   ]
  },
  {
   "cell_type": "markdown",
   "metadata": {},
   "source": [
    "We are still misclassifying a test post, but I think we can still make improvements.  At this point our choices are : <br>\n",
    "- Use a different model than `RandomForestClassifier`\n",
    "- Change the way we preprocess our data\n",
    "- Try to take into account a lower `min_df` when calling the Vectorizer.\n",
    "<br><br>\n",
    "Because I would rather test out the differences in accuracy using the same model, and I do not want to go back and change how I preprocess the data, I will start with the easiest path : *change the min_df* when calling the Vectorizer.  Because this will be computationally slow, I will not set it to zero right away.  Let's try using `min_df = 0.01`.  Also, since with more or less the same parameters the model seemed to work better with `TfidfVectorizer`, we will be sticking with that one from now on."
   ]
  },
  {
   "cell_type": "markdown",
   "metadata": {},
   "source": [
    "### Tweaking the `TfidfVectorizer`\n",
    "As we just mentioned, still Using the `TfidVectorizer` we are seeing if we can minimally tweak the preprocessing and perhaps the model to catch that last `AutoModerator` post."
   ]
  },
  {
   "cell_type": "code",
   "execution_count": 187,
   "metadata": {
    "collapsed": true
   },
   "outputs": [],
   "source": [
    "# Fit the TfidfVectorizer and transform the dataset\n",
    "tf = TfidfVectorizer(preprocessor=process_text, min_df=0.01)\n",
    "tf.fit(X_train, y_train)\n",
    "X_tf = tf.transform(X_train)"
   ]
  },
  {
   "cell_type": "markdown",
   "metadata": {},
   "source": [
    "Before doing anything let's see how many features we have (I'm scared): "
   ]
  },
  {
   "cell_type": "code",
   "execution_count": 188,
   "metadata": {},
   "outputs": [
    {
     "data": {
      "text/plain": [
       "(9104, 884)"
      ]
     },
     "execution_count": 188,
     "metadata": {},
     "output_type": "execute_result"
    }
   ],
   "source": [
    "X_tf.shape"
   ]
  },
  {
   "cell_type": "markdown",
   "metadata": {},
   "source": [
    "We've gone from about 200 features to 884.  That isn't so bad after all.  Let's make our model again!"
   ]
  },
  {
   "cell_type": "code",
   "execution_count": 189,
   "metadata": {
    "collapsed": true
   },
   "outputs": [],
   "source": [
    "# GridSearch Set up for Our classification Model.\n",
    "params = {\n",
    "        'n_estimators' : [10, 20, 50, 75, 100, 125],\n",
    "        'max_depth'    : [None, 5, 10, 20, 40, 50]\n",
    "}\n",
    "M = RandomForestClassifier(n_jobs=-1)\n",
    "gs = GridSearchCV(M, param_grid=params, n_jobs=-1)"
   ]
  },
  {
   "cell_type": "code",
   "execution_count": 190,
   "metadata": {},
   "outputs": [
    {
     "data": {
      "text/plain": [
       "GridSearchCV(cv=None, error_score='raise',\n",
       "       estimator=RandomForestClassifier(bootstrap=True, class_weight=None, criterion='gini',\n",
       "            max_depth=None, max_features='auto', max_leaf_nodes=None,\n",
       "            min_impurity_split=1e-07, min_samples_leaf=1,\n",
       "            min_samples_split=2, min_weight_fraction_leaf=0.0,\n",
       "            n_estimators=10, n_jobs=-1, oob_score=False, random_state=None,\n",
       "            verbose=0, warm_start=False),\n",
       "       fit_params={}, iid=True, n_jobs=-1,\n",
       "       param_grid={'n_estimators': [10, 20, 50, 75, 100, 125], 'max_depth': [None, 5, 10, 20, 40, 50]},\n",
       "       pre_dispatch='2*n_jobs', refit=True, return_train_score=True,\n",
       "       scoring=None, verbose=0)"
      ]
     },
     "execution_count": 190,
     "metadata": {},
     "output_type": "execute_result"
    }
   ],
   "source": [
    "gs.fit(X_tf, y_train)"
   ]
  },
  {
   "cell_type": "code",
   "execution_count": 191,
   "metadata": {},
   "outputs": [
    {
     "data": {
      "text/plain": [
       "{'max_depth': None, 'n_estimators': 10}"
      ]
     },
     "execution_count": 191,
     "metadata": {},
     "output_type": "execute_result"
    }
   ],
   "source": [
    "# See best parameters :\n",
    "gs.best_params_"
   ]
  },
  {
   "cell_type": "code",
   "execution_count": 192,
   "metadata": {},
   "outputs": [
    {
     "data": {
      "text/plain": [
       "RandomForestClassifier(bootstrap=True, class_weight=None, criterion='gini',\n",
       "            max_depth=None, max_features='auto', max_leaf_nodes=None,\n",
       "            min_impurity_split=1e-07, min_samples_leaf=1,\n",
       "            min_samples_split=2, min_weight_fraction_leaf=0.0,\n",
       "            n_estimators=10, n_jobs=-1, oob_score=False, random_state=None,\n",
       "            verbose=0, warm_start=False)"
      ]
     },
     "execution_count": 192,
     "metadata": {},
     "output_type": "execute_result"
    }
   ],
   "source": [
    "M = RandomForestClassifier(n_jobs=-1, n_estimators=10, max_depth=None)\n",
    "M.fit(X_tf, y_train)"
   ]
  },
  {
   "cell_type": "markdown",
   "metadata": {},
   "source": [
    "** Let's see the Results on the Training Set **"
   ]
  },
  {
   "cell_type": "code",
   "execution_count": 193,
   "metadata": {},
   "outputs": [
    {
     "name": "stdout",
     "output_type": "stream",
     "text": [
      "Score (Accuracy) :  1.0\n",
      "% Difference with Baseline :  0.461335676626\n",
      "\n",
      "Confusion Matrix :\n",
      "[[9061    0]\n",
      " [   0   43]]\n"
     ]
    }
   ],
   "source": [
    "tools.print_classification_results(M, X_tf, y_train, baseline)"
   ]
  },
  {
   "cell_type": "markdown",
   "metadata": {},
   "source": [
    "So we're still getting everything on the training set.  That's pretty awesome.  Let's look at the **testing set!!!**"
   ]
  },
  {
   "cell_type": "code",
   "execution_count": 194,
   "metadata": {
    "collapsed": true
   },
   "outputs": [],
   "source": [
    "X_tf_test = tf.transform(X_test)"
   ]
  },
  {
   "cell_type": "code",
   "execution_count": 195,
   "metadata": {},
   "outputs": [
    {
     "name": "stdout",
     "output_type": "stream",
     "text": [
      "Score (Accuracy) :  0.999890158172\n",
      "% Difference with Baseline :  0.450351493849\n",
      "\n",
      "Confusion Matrix :\n",
      "[[9062    0]\n",
      " [   1   41]]\n"
     ]
    }
   ],
   "source": [
    "tools.print_classification_results(M, X_tf_test, y_test, baseline)"
   ]
  },
  {
   "cell_type": "markdown",
   "metadata": {},
   "source": [
    "Well... we are still not getting it! Let's try this **one last time** with an even lower `min_df`."
   ]
  },
  {
   "cell_type": "code",
   "execution_count": 199,
   "metadata": {
    "collapsed": true
   },
   "outputs": [],
   "source": [
    "# Fit the TfidfVectorizer and transform the dataset\n",
    "tf = TfidfVectorizer(preprocessor=process_text, min_df=0.005)\n",
    "tf.fit(X_train, y_train)\n",
    "X_tf = tf.transform(X_train)"
   ]
  },
  {
   "cell_type": "code",
   "execution_count": 200,
   "metadata": {},
   "outputs": [
    {
     "data": {
      "text/plain": [
       "(9104, 1358)"
      ]
     },
     "execution_count": 200,
     "metadata": {},
     "output_type": "execute_result"
    }
   ],
   "source": [
    "X_tf.shape"
   ]
  },
  {
   "cell_type": "markdown",
   "metadata": {},
   "source": [
    "So here we went with a `min_df` of 0.005, meaning a word has to appear in 0.5% of the posts to get put into the dictionary.  With that we've jumped to 1358 features.  Let's see if that helps!"
   ]
  },
  {
   "cell_type": "code",
   "execution_count": 201,
   "metadata": {
    "collapsed": true
   },
   "outputs": [],
   "source": [
    "# GridSearch Set up for Our classification Model.\n",
    "params = {\n",
    "        'n_estimators' : [10, 20, 50, 75, 100, 125],\n",
    "        'max_depth'    : [None, 5, 10, 20, 40, 50]\n",
    "}\n",
    "M = RandomForestClassifier(n_jobs=-1)\n",
    "gs = GridSearchCV(M, param_grid=params, n_jobs=-1)"
   ]
  },
  {
   "cell_type": "code",
   "execution_count": 216,
   "metadata": {},
   "outputs": [
    {
     "data": {
      "text/plain": [
       "GridSearchCV(cv=None, error_score='raise',\n",
       "       estimator=RandomForestClassifier(bootstrap=True, class_weight=None, criterion='gini',\n",
       "            max_depth=None, max_features='auto', max_leaf_nodes=None,\n",
       "            min_impurity_split=1e-07, min_samples_leaf=1,\n",
       "            min_samples_split=2, min_weight_fraction_leaf=0.0,\n",
       "            n_estimators=10, n_jobs=-1, oob_score=False, random_state=None,\n",
       "            verbose=0, warm_start=False),\n",
       "       fit_params={}, iid=True, n_jobs=-1,\n",
       "       param_grid={'n_estimators': [10, 20, 50, 75, 100, 125], 'max_depth': [None, 5, 10, 20, 40, 50]},\n",
       "       pre_dispatch='2*n_jobs', refit=True, return_train_score=True,\n",
       "       scoring=None, verbose=0)"
      ]
     },
     "execution_count": 216,
     "metadata": {},
     "output_type": "execute_result"
    }
   ],
   "source": [
    "gs.fit(X_tf, y_train)"
   ]
  },
  {
   "cell_type": "code",
   "execution_count": 217,
   "metadata": {},
   "outputs": [
    {
     "data": {
      "text/plain": [
       "{'max_depth': None, 'n_estimators': 50}"
      ]
     },
     "execution_count": 217,
     "metadata": {},
     "output_type": "execute_result"
    }
   ],
   "source": [
    "gs.best_params_"
   ]
  },
  {
   "cell_type": "code",
   "execution_count": 218,
   "metadata": {},
   "outputs": [
    {
     "data": {
      "text/plain": [
       "RandomForestClassifier(bootstrap=True, class_weight=None, criterion='gini',\n",
       "            max_depth=None, max_features='auto', max_leaf_nodes=None,\n",
       "            min_impurity_split=1e-07, min_samples_leaf=1,\n",
       "            min_samples_split=2, min_weight_fraction_leaf=0.0,\n",
       "            n_estimators=50, n_jobs=-1, oob_score=False, random_state=None,\n",
       "            verbose=0, warm_start=False)"
      ]
     },
     "execution_count": 218,
     "metadata": {},
     "output_type": "execute_result"
    }
   ],
   "source": [
    "M = RandomForestClassifier(n_jobs=-1, n_estimators=50, max_depth=None)\n",
    "M.fit(X_tf, y_train)"
   ]
  },
  {
   "cell_type": "code",
   "execution_count": 219,
   "metadata": {},
   "outputs": [
    {
     "name": "stdout",
     "output_type": "stream",
     "text": [
      "Score (Accuracy) :  1.0\n",
      "% Difference with Baseline :  0.461335676626\n",
      "\n",
      "Confusion Matrix :\n",
      "[[9061    0]\n",
      " [   0   43]]\n"
     ]
    }
   ],
   "source": [
    "tools.print_classification_results(M, X_tf, y_train, baseline)"
   ]
  },
  {
   "cell_type": "markdown",
   "metadata": {},
   "source": [
    "Again, we catch every `AutoModerator` in our training set.  Let's see for the testing:"
   ]
  },
  {
   "cell_type": "code",
   "execution_count": 220,
   "metadata": {
    "collapsed": true
   },
   "outputs": [],
   "source": [
    "X_tf_test = tf.transform(X_test)"
   ]
  },
  {
   "cell_type": "code",
   "execution_count": 221,
   "metadata": {},
   "outputs": [
    {
     "name": "stdout",
     "output_type": "stream",
     "text": [
      "Score (Accuracy) :  0.999890158172\n",
      "% Difference with Baseline :  0.450351493849\n",
      "\n",
      "Confusion Matrix :\n",
      "[[9062    0]\n",
      " [   1   41]]\n"
     ]
    }
   ],
   "source": [
    "tools.print_classification_results(M, X_tf_test, y_test, baseline)"
   ]
  },
  {
   "cell_type": "markdown",
   "metadata": {},
   "source": [
    "Making the `min_df` even smaller **did not** make a difference in our results.  I will not be testing any more variations of this model, but let's take a look at some samples to spot the differences.  "
   ]
  },
  {
   "cell_type": "code",
   "execution_count": 222,
   "metadata": {
    "collapsed": true
   },
   "outputs": [],
   "source": [
    "# First get out our predictions : \n",
    "y_pred = M.predict(X_tf_test)"
   ]
  },
  {
   "cell_type": "code",
   "execution_count": 228,
   "metadata": {},
   "outputs": [
    {
     "name": "stdout",
     "output_type": "stream",
     "text": [
      "Falsely Predicted Text :\n",
      "\n",
      "Welcome to /r/engineering's bi-weekly advice mega-thread! Here, prospective engineers can ask questions about university major selection, career paths, and get tips on their resumes. If you're a student looking to ask professional engineers for advice, then look no more! Leave a comment here and other engineers will take a look and give you the feedback you're looking for. Engineers: please sort this thread by NEW to see questions that other people have not answered yet.  \n",
      "\n",
      "Please check out /r/EngineeringStudents for more!\n",
      "\n",
      "\n",
      "Correctly Predicted Sample :\n",
      "\n",
      "Welcome to the daily [Advent Of Code](http://adventofcode.com) thread!\n",
      "\n",
      "Please post all related topics *only* here and do not fill the subreddit with threads.\n",
      "\n",
      "The rules are:\n",
      " \n",
      "+ **No direct code posting of solutions** - solutions are only allowed on source code hosters, like: [Github Gist](https://gist.github.com), [Pastebin](https://pastebin.com) (only for single classes/files!), [Github](https://github.com), [Bitbucket](https://bitbucket.org), and [GitLab](https://gitlab.com) - anonymous submissions are, of course allowed where the hosters allow (Github Gist and Pastebin do). We encourage people to use *git repos* (maybe with non-personally identifiable accounts to prevent doxing) - this also provides a learning effect as *git* is an extremely important skill to have.\n",
      "+ Discussions about solutions are welcome and encouraged\n",
      "+ Questions about the challenges are welcome and encouraged\n",
      "+ Asking for *help* with solving the challenges is encouraged, still the *no complete solutions* rule applies. We *advise*, we *help*, but we *do not solve*.\n",
      "+ No trashing! Criticism is okay, but stay civilized.\n",
      "+ And the most important rule: **HAVE FUN!**\n",
      "\n",
      "Last year, /u/Philboyd_studge wrote a nice little Java library that makes it easier to parse the input files that accompany most of the challenges.\n",
      " \n",
      "[**Here is FileIO.java**](https://gist.github.com/anonymous/469050313cd1263e64befb8b35862aa1)\n",
      "  \n",
      "[Link to the explanation of the library](https://www.reddit.com/r/javahelp/comments/5e3ssz/announcement_questions_advent_of_code_2016/dak7fv7/)\n",
      "  \n",
      "Use of this library is *not mandatory*! Feel free to use your own.\n",
      "  \n",
      "**Happy coding!**\n",
      "\n"
     ]
    }
   ],
   "source": [
    "# Sample Correctly Predicted AutoModerator\n",
    "print(\"Falsely Predicted Text :\")\n",
    "print('')\n",
    "print(X_test[(y_pred == 0) & (y_test == 1)][0])\n",
    "print('')\n",
    "print('Correctly Predicted Sample :')\n",
    "print('')\n",
    "print(X_test[(y_pred == 1) & y_test == 1][0])"
   ]
  },
  {
   "cell_type": "markdown",
   "metadata": {},
   "source": [
    "So there are some clear style differences between the text that got left out and the sampe. No links, less + signs, etc... So perhaps there is nothing we can do except explicitly account for that type of post (which might be a bad idea).  "
   ]
  },
  {
   "cell_type": "markdown",
   "metadata": {},
   "source": [
    "### Final Thoughts on the `AutoModerator` Classifier\n",
    "Leaving the last post aside, our model did quite well in predicting which posts were from a bot and which posts were from humans.  We saw that the `TfidfVectorizer` does a better job at making distinguishing features for text.  This does make intuitive sense : If one post has a lot of `Hello Worlds` in it, but others have none,  `Hello World` would not be considered a characteristic feature of that type of posts.  It is better to see if the word(s) appear frequently over many posts.  We also saw that although the previous is true, it was better to have a lower cut off point for `min_df`.  This way we can potentially include more distinguishing features.  Another way to improve our model would be to include a higher percentage of posts in the training set.  This way we have better chances of catching unusual posts.  Judghing from the sample test, perhaps some sentiment analysis would have helped as well (the Bot seems much frendlier).  This way helful words would be classified as such.  But this is for another time.   "
   ]
  }
 ],
 "metadata": {
  "kernelspec": {
   "display_name": "Python 3",
   "language": "python",
   "name": "python3"
  },
  "language_info": {
   "codemirror_mode": {
    "name": "ipython",
    "version": 3
   },
   "file_extension": ".py",
   "mimetype": "text/x-python",
   "name": "python",
   "nbconvert_exporter": "python",
   "pygments_lexer": "ipython3",
   "version": "3.6.1"
  }
 },
 "nbformat": 4,
 "nbformat_minor": 2
}
